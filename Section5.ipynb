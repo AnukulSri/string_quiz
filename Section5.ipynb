{
 "cells": [
  {
   "cell_type": "markdown",
   "metadata": {},
   "source": [
    "Q21. Wap to Extract names from the following string and store them in a list.\n",
    "names = 'Joe, David, Mark, Tom, Chris, Robert'"
   ]
  },
  {
   "cell_type": "code",
   "execution_count": 1,
   "metadata": {},
   "outputs": [
    {
     "name": "stdout",
     "output_type": "stream",
     "text": [
      "['Joe', 'David', 'Mark', 'Tom', 'Chris', 'Robert']\n"
     ]
    }
   ],
   "source": [
    "names = 'Joe, David, Mark, Tom, Chris, Robert'\n",
    "for i in names:\n",
    "    names = names.replace(',',\"\")\n",
    "s1= names.split()\n",
    "print(s1)"
   ]
  },
  {
   "cell_type": "markdown",
   "metadata": {},
   "source": [
    "Q22. Wap add aye in the end of every word and print the results in the following string.\n",
    "text = 'this is some text'"
   ]
  },
  {
   "cell_type": "code",
   "execution_count": 9,
   "metadata": {},
   "outputs": [
    {
     "name": "stdout",
     "output_type": "stream",
     "text": [
      "thisaye isaye someaye textaye "
     ]
    }
   ],
   "source": [
    "text = 'this is some text'\n",
    "for i in text.split() :\n",
    "    print(i + 'aye' ,end=' ')"
   ]
  },
  {
   "cell_type": "markdown",
   "metadata": {},
   "source": [
    "Q23. Wap to ask user to enter a string and check if the string contains 'fyi'"
   ]
  },
  {
   "cell_type": "code",
   "execution_count": 3,
   "metadata": {},
   "outputs": [
    {
     "name": "stdout",
     "output_type": "stream",
     "text": [
      "string contains fyi\n"
     ]
    }
   ],
   "source": [
    "str = input(\"enter a string\")\n",
    "if 'fyi' in str:\n",
    " print(\"string contains fyi\")\n",
    "else : \n",
    " print('string doesn\\'t contains')\n"
   ]
  },
  {
   "cell_type": "markdown",
   "metadata": {},
   "source": [
    "Q24. Wap to Remove all the special characters and numbers from the following string\n",
    "text = '%p34@y!*-*!t68h#&on404'"
   ]
  },
  {
   "cell_type": "code",
   "execution_count": 3,
   "metadata": {},
   "outputs": [
    {
     "name": "stdout",
     "output_type": "stream",
     "text": [
      "python\n"
     ]
    }
   ],
   "source": [
    "ch ='!@#$%^&*1234567890_+()-'\n",
    "text = '%p34@y!*-*!t68h#&on404'\n",
    "for i in ch:\n",
    "    text = text.replace(i,'')\n",
    "print(text)"
   ]
  },
  {
   "cell_type": "markdown",
   "metadata": {},
   "source": [
    "Q 25. Wap to calculate the average word length of the following paragraph.\n",
    "\n",
    "this is a paragraph which is written just for the purpose of providing content to let the average word length be calculated\n"
   ]
  },
  {
   "cell_type": "code",
   "execution_count": 6,
   "metadata": {},
   "outputs": [
    {
     "name": "stdout",
     "output_type": "stream",
     "text": [
      "4.636363636363637\n"
     ]
    }
   ],
   "source": [
    "l1 =0 # this is tocount the length of each word\n",
    "l2=0 # this is to count the word \n",
    "str = '''this is a paragraph which is written just \n",
    "for the purpose of providing content to \n",
    "let the average word length be calculated'''\n",
    "str1 = str.split()\n",
    "\n",
    "for i in str1:\n",
    "    l1 = l1+ len(i)\n",
    "    l2 = l2 + 1\n",
    "\n",
    "avg = l1/l2\n",
    "print(avg)"
   ]
  }
 ],
 "metadata": {
  "kernelspec": {
   "display_name": "Python 3.10.4 64-bit",
   "language": "python",
   "name": "python3"
  },
  "language_info": {
   "codemirror_mode": {
    "name": "ipython",
    "version": 3
   },
   "file_extension": ".py",
   "mimetype": "text/x-python",
   "name": "python",
   "nbconvert_exporter": "python",
   "pygments_lexer": "ipython3",
   "version": "3.10.4"
  },
  "orig_nbformat": 4,
  "vscode": {
   "interpreter": {
    "hash": "1016f5755579665f86c3ed5b4982a3342a4712a1c33c8f914fe8421ee05587a1"
   }
  }
 },
 "nbformat": 4,
 "nbformat_minor": 2
}
